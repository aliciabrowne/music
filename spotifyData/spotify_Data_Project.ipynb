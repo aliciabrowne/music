{
 "metadata": {
  "language_info": {
   "codemirror_mode": {
    "name": "ipython",
    "version": 3
   },
   "file_extension": ".py",
   "mimetype": "text/x-python",
   "name": "python",
   "nbconvert_exporter": "python",
   "pygments_lexer": "ipython3",
   "version": "3.7.6-final"
  },
  "orig_nbformat": 2,
  "kernelspec": {
   "name": "python3",
   "display_name": "Python 3"
  }
 },
 "nbformat": 4,
 "nbformat_minor": 2,
 "cells": [
  {
   "source": [
    "# Spotify Data Project\n",
    "https://github.com/jordanbean/Spotify-Data/blob/master/Spotify_Data.ipynb"
   ],
   "cell_type": "markdown",
   "metadata": {}
  },
  {
   "cell_type": "code",
   "execution_count": 1,
   "metadata": {},
   "outputs": [],
   "source": [
    "# Import libraries\n",
    "\n",
    "import pandas as pd\n",
    "import numpy as np\n",
    "import matplotlib.pyplot as plt\n",
    "import seaborn as sns; sns.set()\n",
    "\n",
    "import json\n",
    "from pprint import pprint\n",
    "\n",
    "import plotly\n",
    "import chart_studio.plotly as py\n",
    "import plotly.graph_objs as go\n",
    "\n",
    "pd.set_option('display.max_rows', 500)"
   ]
  },
  {
   "cell_type": "code",
   "execution_count": 2,
   "metadata": {},
   "outputs": [],
   "source": [
    "import chart_studio\n",
    "from chart_secrets import *\n",
    "chart_studio.tools.set_credentials_file(username=username, api_key=api_key)"
   ]
  },
  {
   "cell_type": "code",
   "execution_count": 4,
   "metadata": {},
   "outputs": [
    {
     "output_type": "stream",
     "name": "stdout",
     "text": [
      "[{'artistName': 'Alphaville',\n  'endTime': '2020-06-10 16:56',\n  'msPlayed': 35538,\n  'trackName': 'Forever Young'},\n {'artistName': 'Pink Floyd',\n  'endTime': '2020-06-10 16:57',\n  'msPlayed': 15956,\n  'trackName': 'Time - 2011 Remastered Version'},\n {'artistName': 'Noir Désir',\n  'endTime': '2020-06-10 16:57',\n  'msPlayed': 55692,\n  'trackName': \"L'homme pressé\"},\n {'artistName': 'Pink Floyd',\n  'endTime': '2020-06-10 16:58',\n  'msPlayed': 29094,\n  'trackName': 'Shine On You Crazy Diamond, Pts. 6-9 - 2011 Remastered '\n               'Version'},\n {'artistName': 'Pink Floyd',\n  'endTime': '2020-06-10 16:58',\n  'msPlayed': 34683,\n  'trackName': 'Shine On You Crazy Diamond, Pts. 1-5 - 2011 Remastered '\n               'Version'}]\n"
     ]
    }
   ],
   "source": [
    "# Read in the data from a Json format and look at the results\n",
    "\n",
    "with open('StreamingHistory0.json', encoding='utf8') as f:\n",
    "    data = json.load(f)\n",
    "\n",
    "pprint(data[:5])"
   ]
  },
  {
   "cell_type": "code",
   "execution_count": 5,
   "metadata": {},
   "outputs": [],
   "source": [
    "# Convert from JSON to a data frame\n",
    "\n",
    "spotify_data = pd.DataFrame()\n",
    "\n",
    "def extract_json_value(column_name):\n",
    "    \n",
    "    return [i[column_name] for i in data]\n",
    "\n",
    "spotify_data['artist_name'] = extract_json_value('artistName')\n",
    "spotify_data['end_time'] = extract_json_value('endTime')\n",
    "spotify_data['ms_played'] = extract_json_value('msPlayed')\n",
    "spotify_data['track_name'] = extract_json_value('trackName')"
   ]
  },
  {
   "cell_type": "code",
   "execution_count": 6,
   "metadata": {},
   "outputs": [
    {
     "output_type": "execute_result",
     "data": {
      "text/plain": [
       "           artist_name          end_time  ms_played  \\\n",
       "17   The White Stripes  2020-06-10 17:15      16643   \n",
       "39           Klingande  2020-06-10 17:31      71943   \n",
       "80   The White Stripes  2020-06-12 17:05      65428   \n",
       "23   The White Stripes  2020-06-10 17:18      31219   \n",
       "123            America  2020-06-18 21:56     252111   \n",
       "12       Stevie Wonder  2020-06-10 17:13      35691   \n",
       "100              Garou  2020-06-18 20:05     211317   \n",
       "75               Manau  2020-06-10 20:03      29916   \n",
       "33         Chuck Berry  2020-06-10 17:27       6939   \n",
       "11       Taron Egerton  2020-06-10 17:12      47181   \n",
       "\n",
       "                             track_name  \n",
       "17   300 M.P.H Torrential Outpour Blues  \n",
       "39                                Jubel  \n",
       "80   300 M.P.H Torrential Outpour Blues  \n",
       "23                           Icky Thump  \n",
       "123                A Horse with No Name  \n",
       "12                                Faith  \n",
       "100                        Sous le vent  \n",
       "75                     La tribu de Dana  \n",
       "33                      Johnny B. Goode  \n",
       "11                   I'm Still Standing  "
      ],
      "text/html": "<div>\n<style scoped>\n    .dataframe tbody tr th:only-of-type {\n        vertical-align: middle;\n    }\n\n    .dataframe tbody tr th {\n        vertical-align: top;\n    }\n\n    .dataframe thead th {\n        text-align: right;\n    }\n</style>\n<table border=\"1\" class=\"dataframe\">\n  <thead>\n    <tr style=\"text-align: right;\">\n      <th></th>\n      <th>artist_name</th>\n      <th>end_time</th>\n      <th>ms_played</th>\n      <th>track_name</th>\n    </tr>\n  </thead>\n  <tbody>\n    <tr>\n      <th>17</th>\n      <td>The White Stripes</td>\n      <td>2020-06-10 17:15</td>\n      <td>16643</td>\n      <td>300 M.P.H Torrential Outpour Blues</td>\n    </tr>\n    <tr>\n      <th>39</th>\n      <td>Klingande</td>\n      <td>2020-06-10 17:31</td>\n      <td>71943</td>\n      <td>Jubel</td>\n    </tr>\n    <tr>\n      <th>80</th>\n      <td>The White Stripes</td>\n      <td>2020-06-12 17:05</td>\n      <td>65428</td>\n      <td>300 M.P.H Torrential Outpour Blues</td>\n    </tr>\n    <tr>\n      <th>23</th>\n      <td>The White Stripes</td>\n      <td>2020-06-10 17:18</td>\n      <td>31219</td>\n      <td>Icky Thump</td>\n    </tr>\n    <tr>\n      <th>123</th>\n      <td>America</td>\n      <td>2020-06-18 21:56</td>\n      <td>252111</td>\n      <td>A Horse with No Name</td>\n    </tr>\n    <tr>\n      <th>12</th>\n      <td>Stevie Wonder</td>\n      <td>2020-06-10 17:13</td>\n      <td>35691</td>\n      <td>Faith</td>\n    </tr>\n    <tr>\n      <th>100</th>\n      <td>Garou</td>\n      <td>2020-06-18 20:05</td>\n      <td>211317</td>\n      <td>Sous le vent</td>\n    </tr>\n    <tr>\n      <th>75</th>\n      <td>Manau</td>\n      <td>2020-06-10 20:03</td>\n      <td>29916</td>\n      <td>La tribu de Dana</td>\n    </tr>\n    <tr>\n      <th>33</th>\n      <td>Chuck Berry</td>\n      <td>2020-06-10 17:27</td>\n      <td>6939</td>\n      <td>Johnny B. Goode</td>\n    </tr>\n    <tr>\n      <th>11</th>\n      <td>Taron Egerton</td>\n      <td>2020-06-10 17:12</td>\n      <td>47181</td>\n      <td>I'm Still Standing</td>\n    </tr>\n  </tbody>\n</table>\n</div>"
     },
     "metadata": {},
     "execution_count": 6
    }
   ],
   "source": [
    "spotify_data.sample(10)"
   ]
  },
  {
   "cell_type": "code",
   "execution_count": 7,
   "metadata": {},
   "outputs": [
    {
     "output_type": "stream",
     "name": "stdout",
     "text": [
      "<class 'pandas.core.frame.DataFrame'>\nRangeIndex: 129 entries, 0 to 128\nData columns (total 4 columns):\n #   Column       Non-Null Count  Dtype \n---  ------       --------------  ----- \n 0   artist_name  129 non-null    object\n 1   end_time     129 non-null    object\n 2   ms_played    129 non-null    int64 \n 3   track_name   129 non-null    object\ndtypes: int64(1), object(3)\nmemory usage: 4.2+ KB\n"
     ]
    }
   ],
   "source": [
    "spotify_data.info()"
   ]
  },
  {
   "source": [
    "## Format columns and add variables"
   ],
   "cell_type": "markdown",
   "metadata": {}
  },
  {
   "cell_type": "code",
   "execution_count": 8,
   "metadata": {},
   "outputs": [],
   "source": [
    "# Convert the timestamp column to datetime\n",
    "\n",
    "spotify_data['end_time'] = pd.to_datetime(spotify_data['end_time'])"
   ]
  },
  {
   "cell_type": "code",
   "execution_count": 9,
   "metadata": {},
   "outputs": [],
   "source": [
    "# Add additional time columns for more interpretable times; drop the MS column\n",
    "\n",
    "spotify_data['seconds_played'] = spotify_data.ms_played.divide(1000)\n",
    "spotify_data['minutes_played'] = spotify_data.seconds_played.divide(60)\n",
    "\n",
    "spotify_data.drop('ms_played', axis=1, inplace=True)"
   ]
  },
  {
   "cell_type": "code",
   "execution_count": 10,
   "metadata": {},
   "outputs": [
    {
     "output_type": "execute_result",
     "data": {
      "text/plain": [
       "                  artist_name            end_time  \\\n",
       "92                     Eagles 2020-06-18 19:44:00   \n",
       "57                  Daft Punk 2020-06-10 17:45:00   \n",
       "38                Adam Levine 2020-06-10 17:30:00   \n",
       "6                  Pink Floyd 2020-06-10 17:07:00   \n",
       "36          The White Stripes 2020-06-10 17:29:00   \n",
       "45              Guns N' Roses 2020-06-10 17:34:00   \n",
       "77   The Dave Brubeck Quartet 2020-06-12 17:01:00   \n",
       "88                    America 2020-06-12 17:12:00   \n",
       "126                 De Palmas 2020-06-18 22:07:00   \n",
       "7                       Queen 2020-06-10 17:08:00   \n",
       "\n",
       "                                       track_name  seconds_played  \\\n",
       "92               Hotel California - 2013 Remaster           5.892   \n",
       "57                       TRON Legacy (End Titles)           8.183   \n",
       "38                                     Lost Stars          39.681   \n",
       "6    Wish You Were Here - 2011 Remastered Version         219.190   \n",
       "36                                     Icky Thump          21.186   \n",
       "45                      Knockin' On Heaven's Door          23.694   \n",
       "77                                      Take Five          33.125   \n",
       "88                           A Horse with No Name          32.405   \n",
       "126                                  Sur la route         221.593   \n",
       "7                    Bohemian Rhapsody - 2011 Mix          19.790   \n",
       "\n",
       "     minutes_played  \n",
       "92         0.098200  \n",
       "57         0.136383  \n",
       "38         0.661350  \n",
       "6          3.653167  \n",
       "36         0.353100  \n",
       "45         0.394900  \n",
       "77         0.552083  \n",
       "88         0.540083  \n",
       "126        3.693217  \n",
       "7          0.329833  "
      ],
      "text/html": "<div>\n<style scoped>\n    .dataframe tbody tr th:only-of-type {\n        vertical-align: middle;\n    }\n\n    .dataframe tbody tr th {\n        vertical-align: top;\n    }\n\n    .dataframe thead th {\n        text-align: right;\n    }\n</style>\n<table border=\"1\" class=\"dataframe\">\n  <thead>\n    <tr style=\"text-align: right;\">\n      <th></th>\n      <th>artist_name</th>\n      <th>end_time</th>\n      <th>track_name</th>\n      <th>seconds_played</th>\n      <th>minutes_played</th>\n    </tr>\n  </thead>\n  <tbody>\n    <tr>\n      <th>92</th>\n      <td>Eagles</td>\n      <td>2020-06-18 19:44:00</td>\n      <td>Hotel California - 2013 Remaster</td>\n      <td>5.892</td>\n      <td>0.098200</td>\n    </tr>\n    <tr>\n      <th>57</th>\n      <td>Daft Punk</td>\n      <td>2020-06-10 17:45:00</td>\n      <td>TRON Legacy (End Titles)</td>\n      <td>8.183</td>\n      <td>0.136383</td>\n    </tr>\n    <tr>\n      <th>38</th>\n      <td>Adam Levine</td>\n      <td>2020-06-10 17:30:00</td>\n      <td>Lost Stars</td>\n      <td>39.681</td>\n      <td>0.661350</td>\n    </tr>\n    <tr>\n      <th>6</th>\n      <td>Pink Floyd</td>\n      <td>2020-06-10 17:07:00</td>\n      <td>Wish You Were Here - 2011 Remastered Version</td>\n      <td>219.190</td>\n      <td>3.653167</td>\n    </tr>\n    <tr>\n      <th>36</th>\n      <td>The White Stripes</td>\n      <td>2020-06-10 17:29:00</td>\n      <td>Icky Thump</td>\n      <td>21.186</td>\n      <td>0.353100</td>\n    </tr>\n    <tr>\n      <th>45</th>\n      <td>Guns N' Roses</td>\n      <td>2020-06-10 17:34:00</td>\n      <td>Knockin' On Heaven's Door</td>\n      <td>23.694</td>\n      <td>0.394900</td>\n    </tr>\n    <tr>\n      <th>77</th>\n      <td>The Dave Brubeck Quartet</td>\n      <td>2020-06-12 17:01:00</td>\n      <td>Take Five</td>\n      <td>33.125</td>\n      <td>0.552083</td>\n    </tr>\n    <tr>\n      <th>88</th>\n      <td>America</td>\n      <td>2020-06-12 17:12:00</td>\n      <td>A Horse with No Name</td>\n      <td>32.405</td>\n      <td>0.540083</td>\n    </tr>\n    <tr>\n      <th>126</th>\n      <td>De Palmas</td>\n      <td>2020-06-18 22:07:00</td>\n      <td>Sur la route</td>\n      <td>221.593</td>\n      <td>3.693217</td>\n    </tr>\n    <tr>\n      <th>7</th>\n      <td>Queen</td>\n      <td>2020-06-10 17:08:00</td>\n      <td>Bohemian Rhapsody - 2011 Mix</td>\n      <td>19.790</td>\n      <td>0.329833</td>\n    </tr>\n  </tbody>\n</table>\n</div>"
     },
     "metadata": {},
     "execution_count": 10
    }
   ],
   "source": [
    "spotify_data.sample(10)"
   ]
  },
  {
   "source": [
    "## Most populat artists and songs"
   ],
   "cell_type": "markdown",
   "metadata": {}
  },
  {
   "cell_type": "code",
   "execution_count": 11,
   "metadata": {},
   "outputs": [
    {
     "output_type": "stream",
     "name": "stdout",
     "text": [
      "The most played artists by count were: \n\nartist_name\nThe White Stripes           12\nBob Dylan                   10\nPink Floyd                   8\nQueen                        5\nJack Johnson                 5\nRed Hot Chili Peppers        4\nThe Dave Brubeck Quartet     4\nScorpions                    4\nGeorge Michael               3\nEagles                       3\nManau                        3\nMaître Gims                  3\nDaft Punk                    3\nFrancis Cabrel               3\nYves Jamait                  3\nTaron Egerton                3\nAlphaville                   3\nBill Withers                 3\nKlingande                    2\nChuck Berry                  2\nElton John                   2\nThe Weeknd                   2\nGeorges Brassens             2\nGuns N' Roses                2\nAmerica                      2\nName: track_name, dtype: int64\n"
     ]
    }
   ],
   "source": [
    "# Find the most popular artists by number of times played\n",
    "\n",
    "most_popular_artists_by_count = spotify_data.groupby(by='artist_name')['track_name'].count().sort_values(ascending=False)[:25]\n",
    "\n",
    "print('The most played artists by count were: \\n\\n{}'.format(most_popular_artists_by_count))"
   ]
  },
  {
   "cell_type": "code",
   "execution_count": 12,
   "metadata": {},
   "outputs": [
    {
     "output_type": "execute_result",
     "data": {
      "text/plain": [
       "<IPython.lib.display.IFrame at 0x28eab7a70c8>"
      ],
      "text/html": "\n        <iframe\n            width=\"100%\"\n            height=\"525px\"\n            src=\"https://plotly.com/~yann.debray/137.embed\"\n            frameborder=\"0\"\n            allowfullscreen\n        ></iframe>\n        "
     },
     "metadata": {},
     "execution_count": 12
    }
   ],
   "source": [
    "# Visualize the most popular artists with a standard bar chart\n",
    "\n",
    "data = [\n",
    "    \n",
    "    go.Bar(\n",
    "            x=most_popular_artists_by_count.index,\n",
    "            y=most_popular_artists_by_count,\n",
    "            text=most_popular_artists_by_count,\n",
    "            textposition='auto',\n",
    "            opacity=0.75\n",
    "            \n",
    "    )]\n",
    "\n",
    "layout = go.Layout(\n",
    "    title='Popularity of Artists by Count',\n",
    "    \n",
    "    yaxis= dict(\n",
    "        title='Number of Times Played',\n",
    "        gridcolor='rgb(255, 255, 255)',\n",
    "        zerolinewidth=1,\n",
    "        ticklen=5,\n",
    "        gridwidth=2,\n",
    "        titlefont=dict(size=15))\n",
    ")\n",
    "\n",
    "fig = go.Figure(data=data, layout=layout)\n",
    "        \n",
    "py.iplot(fig, filename='popular_artists')"
   ]
  },
  {
   "cell_type": "code",
   "execution_count": 13,
   "metadata": {},
   "outputs": [
    {
     "output_type": "execute_result",
     "data": {
      "text/plain": [
       "artist_name\n",
       "Pink Floyd                  28.580017\n",
       "Scorpions                   19.293383\n",
       "Bob Dylan                   13.570633\n",
       "Jack Johnson                10.056383\n",
       "Francis Cabrel               6.870533\n",
       "The Dave Brubeck Quartet     6.565417\n",
       "Guns N' Roses                5.994900\n",
       "David Bowie                  5.942267\n",
       "Eagles                       5.926667\n",
       "Klingande                    5.926367\n",
       "George Michael               5.758283\n",
       "Ibrahim Maalouf              5.630850\n",
       "Manau                        5.416717\n",
       "Queen                        5.191583\n",
       "Alphaville                   5.137600\n",
       "The White Stripes            4.747983\n",
       "America                      4.741933\n",
       "Red Hot Chili Peppers        4.678617\n",
       "Maître Gims                  4.618367\n",
       "Taron Egerton                4.600017\n",
       "Name: minutes_played, dtype: float64"
      ]
     },
     "metadata": {},
     "execution_count": 13
    }
   ],
   "source": [
    "# Look at most popular artists by amount of time played\n",
    "\n",
    "most_popular_artists_by_time = spotify_data.groupby(by='artist_name')['minutes_played'].sum().sort_values(ascending=False)[:20]\n",
    "\n",
    "most_popular_artists_by_time"
   ]
  },
  {
   "cell_type": "code",
   "execution_count": 14,
   "metadata": {},
   "outputs": [
    {
     "output_type": "execute_result",
     "data": {
      "text/plain": [
       "300 M.P.H Torrential Outpour Blues        8\n",
       "Knockin' On Heaven's Door                 6\n",
       "I'm Still Standing                        5\n",
       "Icky Thump                                4\n",
       "Faith                                     4\n",
       "Californication                           4\n",
       "Take Five                                 4\n",
       "Hurricane                                 3\n",
       "The Times They Are A-Changin'             3\n",
       "Still Loving You                          3\n",
       "Ok, Tu T'en Vas                           3\n",
       "Ain't No Sunshine                         3\n",
       "La tribu de Dana                          3\n",
       "Shake It Off                              3\n",
       "Forever Young                             3\n",
       "Jubel                                     2\n",
       "Space Oddity - 2015 Remaster              2\n",
       "Have A Cigar - 2011 Remastered Version    2\n",
       "A Horse with No Name                      2\n",
       "Fly Me To The Moon - Remastered           2\n",
       "Name: track_name, dtype: int64"
      ]
     },
     "metadata": {},
     "execution_count": 14
    }
   ],
   "source": [
    "# Look at the most popular songs played\n",
    "\n",
    "most_popular_songs = spotify_data.track_name.value_counts().sort_values(ascending=False)[:20]\n",
    "\n",
    "most_popular_songs"
   ]
  },
  {
   "source": [
    "## Time of day to listen"
   ],
   "cell_type": "markdown",
   "metadata": {}
  },
  {
   "cell_type": "code",
   "execution_count": 15,
   "metadata": {},
   "outputs": [],
   "source": [
    "# Create time of day variable\n",
    "\n",
    "def time_of_day(datetime_column, df=spotify_data):\n",
    "    \n",
    "    \"\"\"\n",
    "    Takes in a datetime column and returns the time of day that the datetime occurs.\n",
    "    \n",
    "    Before 12 PM is considered morning, between 12 PM and 5 PM afternoon, and after 5 PM evening.\n",
    "    \"\"\"\n",
    "    \n",
    "    time_of_day = []\n",
    "    \n",
    "    for i in df[datetime_column]:\n",
    "        \n",
    "        i = i.hour\n",
    "        \n",
    "        if i <= 12:\n",
    "            \n",
    "            time_of_day.append('morning')\n",
    "            \n",
    "        elif i < 17:\n",
    "            \n",
    "            time_of_day.append('afternoon')\n",
    "            \n",
    "        else:\n",
    "            \n",
    "            time_of_day.append('night')\n",
    "    \n",
    "    time_of_day = pd.Categorical(time_of_day, categories=['morning','afternoon','night'], ordered=True)\n",
    "            \n",
    "    return time_of_day"
   ]
  },
  {
   "cell_type": "code",
   "execution_count": 16,
   "metadata": {},
   "outputs": [],
   "source": [
    "from datetime import datetime\n",
    "import time\n",
    "\n",
    "def datetime_from_utc_to_local(utc_datetime):\n",
    "    \n",
    "    \"\"\"\n",
    "    Converts a column from a UTC timestamp to local time, then returns the local time.\n",
    "    \"\"\"\n",
    "    now_timestamp = time.time()\n",
    "    offset = datetime.fromtimestamp(now_timestamp) - datetime.utcfromtimestamp(now_timestamp)\n",
    "    return utc_datetime + offset"
   ]
  },
  {
   "cell_type": "code",
   "execution_count": 17,
   "metadata": {},
   "outputs": [],
   "source": [
    "## Convert from UTC time to eastern time\n",
    "\n",
    "spotify_data['local_time'] = datetime_from_utc_to_local(spotify_data.end_time)\n",
    "spotify_data['local_time_of_day'] = time_of_day('local_time')"
   ]
  },
  {
   "cell_type": "code",
   "execution_count": 18,
   "metadata": {},
   "outputs": [],
   "source": [
    "# Add day of week and organize days as categories\n",
    "\n",
    "spotify_data['local_day_of_week'] = spotify_data['local_time'].dt.day_name()\n",
    "\n",
    "spotify_data['local_day_of_week'] = pd.Categorical(spotify_data['local_day_of_week'], \n",
    "                                   categories=['Monday','Tuesday','Wednesday','Thursday','Friday','Saturday', 'Sunday'], \n",
    "                                   ordered=True)"
   ]
  },
  {
   "cell_type": "code",
   "execution_count": 19,
   "metadata": {},
   "outputs": [],
   "source": [
    "## Create a pivot table by time of day and day of week\n",
    "\n",
    "time_of_day_local_pivot = spotify_data.pivot_table(columns='local_time_of_day', index='local_day_of_week', \n",
    "                                             values='minutes_played', aggfunc=np.sum)\n",
    "\n",
    "start_date = spotify_data.local_time.min()\n",
    "end_date = spotify_data.local_time.max()\n",
    "\n",
    "difference_in_weeks = (end_date - start_date).days / (7)\n",
    "time_of_day_utc_pivot = time_of_day_local_pivot.divide(difference_in_weeks)"
   ]
  },
  {
   "cell_type": "code",
   "execution_count": 20,
   "metadata": {},
   "outputs": [
    {
     "output_type": "execute_result",
     "data": {
      "text/plain": [
       "<IPython.lib.display.IFrame at 0x28eac423488>"
      ],
      "text/html": "\n        <iframe\n            width=\"100%\"\n            height=\"525px\"\n            src=\"https://plotly.com/~yann.debray/139.embed\"\n            frameborder=\"0\"\n            allowfullscreen\n        ></iframe>\n        "
     },
     "metadata": {},
     "execution_count": 20
    }
   ],
   "source": [
    "trace = go.Heatmap(z=time_of_day_utc_pivot.values,\n",
    "                  x=time_of_day_utc_pivot.columns,\n",
    "                  y=time_of_day_utc_pivot.index,\n",
    "                  colorscale='Greens',\n",
    "                  reversescale=True)\n",
    "data=[trace]\n",
    "py.iplot(data, filename='spotify_heatmap')"
   ]
  },
  {
   "source": [
    "## Higher likelihood to play a song"
   ],
   "cell_type": "markdown",
   "metadata": {}
  },
  {
   "cell_type": "code",
   "execution_count": 21,
   "metadata": {},
   "outputs": [],
   "source": [
    "# Read in the library information\n",
    "\n",
    "with open('YourLibrary.json', encoding='utf8') as f:\n",
    "    library_data = json.load(f)"
   ]
  },
  {
   "cell_type": "code",
   "execution_count": 22,
   "metadata": {},
   "outputs": [],
   "source": [
    "library_df = pd.DataFrame()\n",
    "\n",
    "def extract_json_value_library(column_name, data_source=library_data):\n",
    "    \n",
    "    \"\"\"\n",
    "    Takes in a JSON series of values and converts them to a list\n",
    "    \"\"\"\n",
    "    \n",
    "    return [i[column_name] for i in data_source['tracks']]\n",
    "\n",
    "library_df['artist_name'] = extract_json_value_library('artist')\n",
    "library_df['album'] = extract_json_value_library('album')\n",
    "library_df['track_name'] = extract_json_value_library('track')"
   ]
  },
  {
   "cell_type": "code",
   "execution_count": 23,
   "metadata": {},
   "outputs": [
    {
     "output_type": "execute_result",
     "data": {
      "text/plain": [
       "       artist_name                                              album  \\\n",
       "78     David Bowie  Space Oddity [Space Oddity 40th Anniversary Ed...   \n",
       "45     David Bowie  Space Oddity [Space Oddity 40th Anniversary Ed...   \n",
       "49  Meghan Trainor                                              Title   \n",
       "11  Meghan Trainor                                              Title   \n",
       "79        Maroon 5                                                  V   \n",
       "29  Meghan Trainor                                              Title   \n",
       "44       Mr. Probz                                              Waves   \n",
       "52  Meghan Trainor                                              Title   \n",
       "69     David Bowie  Space Oddity [Space Oddity 40th Anniversary Ed...   \n",
       "8       White Lies                                To Lose My Life ...   \n",
       "\n",
       "                                           track_name  \n",
       "78  The Prettiest Star - Stereo Version;2009 Remas...  \n",
       "45  Ragazzo Solo, Ragazza Sola - Full Length Stere...  \n",
       "49                                       I'll Be Home  \n",
       "11                                     Lips Are Movin  \n",
       "79                                            Animals  \n",
       "29                                          What If I  \n",
       "44                    Waves - Robin Schulz Radio Edit  \n",
       "52                                   Title - Acoustic  \n",
       "69  Wild Eyed Boy From Freecloud - Alternate Album...  \n",
       "8                          Farewell To The Fairground  "
      ],
      "text/html": "<div>\n<style scoped>\n    .dataframe tbody tr th:only-of-type {\n        vertical-align: middle;\n    }\n\n    .dataframe tbody tr th {\n        vertical-align: top;\n    }\n\n    .dataframe thead th {\n        text-align: right;\n    }\n</style>\n<table border=\"1\" class=\"dataframe\">\n  <thead>\n    <tr style=\"text-align: right;\">\n      <th></th>\n      <th>artist_name</th>\n      <th>album</th>\n      <th>track_name</th>\n    </tr>\n  </thead>\n  <tbody>\n    <tr>\n      <th>78</th>\n      <td>David Bowie</td>\n      <td>Space Oddity [Space Oddity 40th Anniversary Ed...</td>\n      <td>The Prettiest Star - Stereo Version;2009 Remas...</td>\n    </tr>\n    <tr>\n      <th>45</th>\n      <td>David Bowie</td>\n      <td>Space Oddity [Space Oddity 40th Anniversary Ed...</td>\n      <td>Ragazzo Solo, Ragazza Sola - Full Length Stere...</td>\n    </tr>\n    <tr>\n      <th>49</th>\n      <td>Meghan Trainor</td>\n      <td>Title</td>\n      <td>I'll Be Home</td>\n    </tr>\n    <tr>\n      <th>11</th>\n      <td>Meghan Trainor</td>\n      <td>Title</td>\n      <td>Lips Are Movin</td>\n    </tr>\n    <tr>\n      <th>79</th>\n      <td>Maroon 5</td>\n      <td>V</td>\n      <td>Animals</td>\n    </tr>\n    <tr>\n      <th>29</th>\n      <td>Meghan Trainor</td>\n      <td>Title</td>\n      <td>What If I</td>\n    </tr>\n    <tr>\n      <th>44</th>\n      <td>Mr. Probz</td>\n      <td>Waves</td>\n      <td>Waves - Robin Schulz Radio Edit</td>\n    </tr>\n    <tr>\n      <th>52</th>\n      <td>Meghan Trainor</td>\n      <td>Title</td>\n      <td>Title - Acoustic</td>\n    </tr>\n    <tr>\n      <th>69</th>\n      <td>David Bowie</td>\n      <td>Space Oddity [Space Oddity 40th Anniversary Ed...</td>\n      <td>Wild Eyed Boy From Freecloud - Alternate Album...</td>\n    </tr>\n    <tr>\n      <th>8</th>\n      <td>White Lies</td>\n      <td>To Lose My Life ...</td>\n      <td>Farewell To The Fairground</td>\n    </tr>\n  </tbody>\n</table>\n</div>"
     },
     "metadata": {},
     "execution_count": 23
    }
   ],
   "source": [
    "library_df.sample(10)"
   ]
  },
  {
   "cell_type": "code",
   "execution_count": 24,
   "metadata": {},
   "outputs": [
    {
     "output_type": "execute_result",
     "data": {
      "text/plain": [
       "252"
      ]
     },
     "metadata": {},
     "execution_count": 24
    }
   ],
   "source": [
    "library_df.size"
   ]
  },
  {
   "source": [
    "## Scatter Plot of Artist Plays"
   ],
   "cell_type": "markdown",
   "metadata": {}
  },
  {
   "cell_type": "code",
   "execution_count": 25,
   "metadata": {},
   "outputs": [],
   "source": [
    "def time_of_day_scatter_df(df = spotify_data, time_of_day=None):\n",
    "    \n",
    "    \"\"\"\n",
    "    Takes in a data frame, filters it for the time of day if the variable is not None, and finds the \n",
    "    frequency of plays, minutes played, and unique songs by artists. The function returns a data frame\n",
    "    with this information.\n",
    "    \"\"\"\n",
    "    \n",
    "    if time_of_day:\n",
    "        df = df[df['local_time_of_day'] == time_of_day]\n",
    "        \n",
    "    grouped_artists = df.groupby(by='artist_name')\n",
    "    \n",
    "    number_of_plays = grouped_artists['track_name'].count()\n",
    "    minutes_played = grouped_artists['minutes_played'].sum()\n",
    "    unique_songs_played = [len(i) for i in grouped_artists['track_name'].unique()]\n",
    "    \n",
    "    scatter_df = pd.DataFrame({'number_of_plays':number_of_plays, \n",
    "                           'minutes_played':minutes_played,\n",
    "                           'unique_songs_played':unique_songs_played},\n",
    "                         index = number_of_plays.index)\n",
    "    \n",
    "    return scatter_df"
   ]
  },
  {
   "cell_type": "code",
   "execution_count": 26,
   "metadata": {},
   "outputs": [],
   "source": [
    "scatter_df = time_of_day_scatter_df()"
   ]
  },
  {
   "cell_type": "code",
   "execution_count": 27,
   "metadata": {},
   "outputs": [
    {
     "output_type": "execute_result",
     "data": {
      "text/plain": [
       "              number_of_plays  minutes_played  unique_songs_played\n",
       "artist_name                                                       \n",
       "Adam Levine                 1        0.661350                    1\n",
       "Alphaville                  3        5.137600                    1\n",
       "America                     2        4.741933                    1\n",
       "Audioslave                  2        2.863283                    1\n",
       "Bill Withers                3        1.111700                    1"
      ],
      "text/html": "<div>\n<style scoped>\n    .dataframe tbody tr th:only-of-type {\n        vertical-align: middle;\n    }\n\n    .dataframe tbody tr th {\n        vertical-align: top;\n    }\n\n    .dataframe thead th {\n        text-align: right;\n    }\n</style>\n<table border=\"1\" class=\"dataframe\">\n  <thead>\n    <tr style=\"text-align: right;\">\n      <th></th>\n      <th>number_of_plays</th>\n      <th>minutes_played</th>\n      <th>unique_songs_played</th>\n    </tr>\n    <tr>\n      <th>artist_name</th>\n      <th></th>\n      <th></th>\n      <th></th>\n    </tr>\n  </thead>\n  <tbody>\n    <tr>\n      <th>Adam Levine</th>\n      <td>1</td>\n      <td>0.661350</td>\n      <td>1</td>\n    </tr>\n    <tr>\n      <th>Alphaville</th>\n      <td>3</td>\n      <td>5.137600</td>\n      <td>1</td>\n    </tr>\n    <tr>\n      <th>America</th>\n      <td>2</td>\n      <td>4.741933</td>\n      <td>1</td>\n    </tr>\n    <tr>\n      <th>Audioslave</th>\n      <td>2</td>\n      <td>2.863283</td>\n      <td>1</td>\n    </tr>\n    <tr>\n      <th>Bill Withers</th>\n      <td>3</td>\n      <td>1.111700</td>\n      <td>1</td>\n    </tr>\n  </tbody>\n</table>\n</div>"
     },
     "metadata": {},
     "execution_count": 27
    }
   ],
   "source": [
    "scatter_df.head()"
   ]
  }
 ]
}